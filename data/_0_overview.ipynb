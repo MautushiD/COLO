{
 "cells": [
  {
   "cell_type": "code",
   "execution_count": 12,
   "metadata": {},
   "outputs": [],
   "source": [
    "import os\n",
    "from datasets import load_dataset, concatenate_datasets"
   ]
  },
  {
   "cell_type": "code",
   "execution_count": null,
   "metadata": {},
   "outputs": [],
   "source": [
    "data_all = load_dataset(\"Niche-Squad/COLO\", \"0_all\")\n",
    "data_1_top = load_dataset(\"Niche-Squad/COLO\", \"1_top\")\n",
    "data_2_side = load_dataset(\"Niche-Squad/COLO\", \"2_side\")\n",
    "data_3_ext = load_dataset(\"Niche-Squad/COLO\", \"3_external\")\n",
    "data_t2s = load_dataset(\"Niche-Squad/COLO\", \"a1_t2s\")\n",
    "data_s2t = load_dataset(\"Niche-Squad/COLO\", \"a2_s2t\")\n",
    "data_b = load_dataset(\"Niche-Squad/COLO\", \"b_light\")\n",
    "data_c_ext = load_dataset(\"Niche-Squad/COLO\", \"c_external\")"
   ]
  },
  {
   "cell_type": "markdown",
   "metadata": {},
   "source": [
    "## Top-view"
   ]
  },
  {
   "cell_type": "code",
   "execution_count": 6,
   "metadata": {},
   "outputs": [
    {
     "data": {
      "text/plain": [
       "DatasetDict({\n",
       "    daylight: Dataset({\n",
       "        features: ['image', 'width', 'height', 'n_cows', 'annotations', 'image_id', 'filename'],\n",
       "        num_rows: 296\n",
       "    })\n",
       "    indoorlight: Dataset({\n",
       "        features: ['image', 'width', 'height', 'n_cows', 'annotations', 'image_id', 'filename'],\n",
       "        num_rows: 118\n",
       "    })\n",
       "    infrared: Dataset({\n",
       "        features: ['image', 'width', 'height', 'n_cows', 'annotations', 'image_id', 'filename'],\n",
       "        num_rows: 90\n",
       "    })\n",
       "    train: Dataset({\n",
       "        features: ['image', 'width', 'height', 'n_cows', 'annotations', 'image_id', 'filename'],\n",
       "        num_rows: 454\n",
       "    })\n",
       "    test: Dataset({\n",
       "        features: ['image', 'width', 'height', 'n_cows', 'annotations', 'image_id', 'filename'],\n",
       "        num_rows: 50\n",
       "    })\n",
       "})"
      ]
     },
     "execution_count": 6,
     "metadata": {},
     "output_type": "execute_result"
    }
   ],
   "source": [
    "data_1_top"
   ]
  },
  {
   "cell_type": "code",
   "execution_count": 15,
   "metadata": {},
   "outputs": [
    {
     "data": {
      "text/plain": [
       "Dataset({\n",
       "    features: ['image', 'width', 'height', 'n_cows', 'annotations', 'image_id', 'filename'],\n",
       "    num_rows: 504\n",
       "})"
      ]
     },
     "execution_count": 15,
     "metadata": {},
     "output_type": "execute_result"
    }
   ],
   "source": [
    "data_1_top_a = concatenate_datasets([data_1_top[\"train\"], data_1_top[\"test\"]])\n",
    "data_1_top_a"
   ]
  },
  {
   "cell_type": "code",
   "execution_count": 21,
   "metadata": {},
   "outputs": [
    {
     "data": {
      "text/plain": [
       "1152"
      ]
     },
     "execution_count": 21,
     "metadata": {},
     "output_type": "execute_result"
    }
   ],
   "source": []
  },
  {
   "cell_type": "markdown",
   "metadata": {},
   "source": [
    "## Side-view"
   ]
  },
  {
   "cell_type": "code",
   "execution_count": 16,
   "metadata": {},
   "outputs": [
    {
     "data": {
      "text/plain": [
       "DatasetDict({\n",
       "    daylight: Dataset({\n",
       "        features: ['image', 'width', 'height', 'n_cows', 'annotations', 'image_id', 'filename'],\n",
       "        num_rows: 290\n",
       "    })\n",
       "    indoorlight: Dataset({\n",
       "        features: ['image', 'width', 'height', 'n_cows', 'annotations', 'image_id', 'filename'],\n",
       "        num_rows: 113\n",
       "    })\n",
       "    infrared: Dataset({\n",
       "        features: ['image', 'width', 'height', 'n_cows', 'annotations', 'image_id', 'filename'],\n",
       "        num_rows: 97\n",
       "    })\n",
       "    train: Dataset({\n",
       "        features: ['image', 'width', 'height', 'n_cows', 'annotations', 'image_id', 'filename'],\n",
       "        num_rows: 450\n",
       "    })\n",
       "    test: Dataset({\n",
       "        features: ['image', 'width', 'height', 'n_cows', 'annotations', 'image_id', 'filename'],\n",
       "        num_rows: 50\n",
       "    })\n",
       "})"
      ]
     },
     "execution_count": 16,
     "metadata": {},
     "output_type": "execute_result"
    }
   ],
   "source": [
    "data_2_side"
   ]
  },
  {
   "cell_type": "markdown",
   "metadata": {},
   "source": [
    "## External"
   ]
  },
  {
   "cell_type": "code",
   "execution_count": 17,
   "metadata": {},
   "outputs": [
    {
     "data": {
      "text/plain": [
       "DatasetDict({\n",
       "    train: Dataset({\n",
       "        features: ['image', 'width', 'height', 'n_cows', 'annotations', 'image_id', 'filename'],\n",
       "        num_rows: 200\n",
       "    })\n",
       "    test: Dataset({\n",
       "        features: ['image', 'width', 'height', 'n_cows', 'annotations', 'image_id', 'filename'],\n",
       "        num_rows: 50\n",
       "    })\n",
       "})"
      ]
     },
     "execution_count": 17,
     "metadata": {},
     "output_type": "execute_result"
    }
   ],
   "source": [
    "data_3_ext"
   ]
  }
 ],
 "metadata": {
  "kernelspec": {
   "display_name": "niche",
   "language": "python",
   "name": "python3"
  },
  "language_info": {
   "codemirror_mode": {
    "name": "ipython",
    "version": 3
   },
   "file_extension": ".py",
   "mimetype": "text/x-python",
   "name": "python",
   "nbconvert_exporter": "python",
   "pygments_lexer": "ipython3",
   "version": "3.11.6"
  }
 },
 "nbformat": 4,
 "nbformat_minor": 2
}
